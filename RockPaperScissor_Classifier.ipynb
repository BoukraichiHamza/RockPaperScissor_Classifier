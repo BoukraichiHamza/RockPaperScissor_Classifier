{
 "cells": [
  {
   "cell_type": "markdown",
   "metadata": {},
   "source": [
    "# Rock-Paper-Scissor Classifier\n",
    "\n",
    "The objective of this study is, by using  a two hidden layer neural network, to classify images of hands in 3 classes : rock, paper and scissors.\n",
    "\n",
    "Authors : Hamza Boukraichi and Loic Cordone"
   ]
  },
  {
   "cell_type": "code",
   "execution_count": 1,
   "metadata": {},
   "outputs": [],
   "source": [
    "import numpy\n",
    "import numpy as np\n",
    "import torch\n",
    "import torch.nn as nn\n",
    "import torch.nn.functional as F\n",
    "import torch.utils.data.dataloader as dataloader\n",
    "import torch.optim as optim\n",
    "\n",
    "from PIL import Image\n",
    "from torch.utils.data.dataset import Dataset\n",
    "from torch.utils.data import TensorDataset\n",
    "from torch.autograd import Variable\n",
    "from torchvision import transforms, datasets\n",
    "import matplotlib.pyplot as plt"
   ]
  },
  {
   "cell_type": "markdown",
   "metadata": {},
   "source": [
    "# Create the image folder and the loaders\n",
    "\n"
   ]
  },
  {
   "cell_type": "code",
   "execution_count": 2,
   "metadata": {},
   "outputs": [],
   "source": [
    "transf = transforms.Compose([transforms.Grayscale(),\n",
    "                             transforms.RandomRotation(180),\n",
    "                             transforms.RandomHorizontalFlip(),\n",
    "                             transforms.ToTensor()])\n",
    "dataset = datasets.ImageFolder('PPC2/.',transform = transf)\n",
    "\n",
    "#Splitting DataSet into Train  and Test\n",
    "n = len(dataset)\n",
    "ntrain = int(0.8 *n)\n",
    "ntest = n - ntrain\n",
    "train_data, test_data = torch.utils.data.random_split(dataset, [ntrain, ntest])\n",
    "nbatch = 10\n"
   ]
  },
  {
   "cell_type": "code",
   "execution_count": 3,
   "metadata": {},
   "outputs": [],
   "source": [
    "dataload_train = dict(shuffle=True, batch_size=nbatch,num_workers=0, pin_memory=True)\n",
    "train_load = dataloader.DataLoader(train_data, **dataload_train)\n",
    "\n",
    "dataload_test = dict(shuffle=True, batch_size=ntest,num_workers=0, pin_memory=True)\n",
    "test_load = dataloader.DataLoader(test_data, **dataload_test)"
   ]
  },
  {
   "cell_type": "markdown",
   "metadata": {},
   "source": [
    "# Build the model\n",
    "\n"
   ]
  },
  {
   "cell_type": "code",
   "execution_count": 4,
   "metadata": {},
   "outputs": [],
   "source": [
    "# Two hidden Layers NN\n",
    "class Model(nn.Module):\n",
    "    def __init__(self):\n",
    "        super(Model, self).__init__()\n",
    "        self.fc0 = nn.Linear(32*32, 16*16)\n",
    "        self.fc1 = nn.Linear(16*16, 8*8)\n",
    "        self.fcout = nn.Linear(8*8,3)\n",
    "    def forward(self, x):\n",
    "        out = self.fc0(x.view(-1,32*32))\n",
    "        out = F.relu(self.fc1(out))\n",
    "        out = F.relu(self.fcout(out))\n",
    "        return F.log_softmax(out, dim=0)    \n",
    "    \n",
    "    \n",
    "model = Model()\n",
    "optimizer = optim.Adagrad(model.parameters())\n",
    "\n",
    "EPOCHS = 20\n",
    "losses = []\n"
   ]
  },
  {
   "cell_type": "markdown",
   "metadata": {},
   "source": [
    "#  Train & Test\n"
   ]
  },
  {
   "cell_type": "code",
   "execution_count": 5,
   "metadata": {},
   "outputs": [
    {
     "name": "stdout",
     "output_type": "stream",
     "text": [
      "Epoch [1/20], \t Loss: 1.1310, \t Accuracy On Test:29.2683%\n",
      "Epoch [2/20], \t Loss: 1.0986, \t Accuracy On Test:29.2683%\n",
      "Epoch [3/20], \t Loss: 1.0986, \t Accuracy On Test:29.2683%\n",
      "Epoch [4/20], \t Loss: 1.0986, \t Accuracy On Test:29.2683%\n",
      "Epoch [5/20], \t Loss: 1.0986, \t Accuracy On Test:29.2683%\n",
      "Epoch [6/20], \t Loss: 1.0986, \t Accuracy On Test:29.2683%\n",
      "Epoch [7/20], \t Loss: 1.0986, \t Accuracy On Test:29.2683%\n",
      "Epoch [8/20], \t Loss: 1.0986, \t Accuracy On Test:29.2683%\n",
      "Epoch [9/20], \t Loss: 1.0986, \t Accuracy On Test:29.2683%\n",
      "Epoch [10/20], \t Loss: 1.0986, \t Accuracy On Test:29.2683%\n",
      "Epoch [11/20], \t Loss: 1.0986, \t Accuracy On Test:29.2683%\n",
      "Epoch [12/20], \t Loss: 1.0986, \t Accuracy On Test:29.2683%\n",
      "Epoch [13/20], \t Loss: 1.0986, \t Accuracy On Test:29.2683%\n",
      "Epoch [14/20], \t Loss: 1.0986, \t Accuracy On Test:29.2683%\n",
      "Epoch [15/20], \t Loss: 1.0986, \t Accuracy On Test:29.2683%\n",
      "Epoch [16/20], \t Loss: 1.0986, \t Accuracy On Test:29.2683%\n",
      "Epoch [17/20], \t Loss: 1.0986, \t Accuracy On Test:29.2683%\n",
      "Epoch [18/20], \t Loss: 1.0986, \t Accuracy On Test:29.2683%\n",
      "Epoch [19/20], \t Loss: 1.0986, \t Accuracy On Test:29.2683%\n",
      "Epoch [20/20], \t Loss: 1.0986, \t Accuracy On Test:29.2683%\n"
     ]
    }
   ],
   "source": [
    "# Train the model\n",
    "total_step = len(train_load)\n",
    "for epoch in range(EPOCHS):\n",
    "    losses = []\n",
    "    for i, (images, labels) in enumerate(train_load):\n",
    "\n",
    "        # Forward pass\n",
    "        outputs = model(images)\n",
    "        loss = F.cross_entropy(outputs, labels)\n",
    "        losses.append(loss.item())\n",
    "        \n",
    "        # Backward and optimize\n",
    "        optimizer.zero_grad()\n",
    "        loss.backward()\n",
    "        optimizer.step()\n",
    "   \n",
    "\n",
    "    # Test the model\n",
    "    model.eval()  # eval mode\n",
    "    with torch.no_grad():\n",
    "        correct = 0\n",
    "        total = 0\n",
    "        for images, labels in test_load:\n",
    "            outputs = model(images)\n",
    "            _, predicted = torch.max(outputs.data, 1)\n",
    "            total += labels.size(0)\n",
    "            correct += (predicted == labels).sum().item()\n",
    "    print('Epoch [{}/{}], \\t Loss: {:.4f}, \\t Accuracy On Test:{:.4f}%' \n",
    "                .format(epoch+1, EPOCHS, np.mean(losses),100 * correct / total))"
   ]
  },
  {
   "cell_type": "code",
   "execution_count": null,
   "metadata": {},
   "outputs": [],
   "source": []
  }
 ],
 "metadata": {
  "kernelspec": {
   "display_name": "Python 3",
   "language": "python",
   "name": "python3"
  },
  "language_info": {
   "codemirror_mode": {
    "name": "ipython",
    "version": 3
   },
   "file_extension": ".py",
   "mimetype": "text/x-python",
   "name": "python",
   "nbconvert_exporter": "python",
   "pygments_lexer": "ipython3",
   "version": "3.6.7"
  }
 },
 "nbformat": 4,
 "nbformat_minor": 2
}
