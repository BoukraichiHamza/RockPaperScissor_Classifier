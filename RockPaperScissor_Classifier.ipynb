{
 "cells": [
  {
   "cell_type": "code",
   "execution_count": 1,
   "metadata": {},
   "outputs": [],
   "source": [
    "import numpy\n",
    "import numpy as np\n",
    "import torch\n",
    "import torch.nn as nn\n",
    "import torch.nn.functional as F\n",
    "import torch.utils.data.dataloader as dataloader\n",
    "import torch.optim as optim\n",
    "\n",
    "from PIL import Image\n",
    "from torch.utils.data.dataset import Dataset\n",
    "from torch.utils.data import TensorDataset\n",
    "from torch.autograd import Variable\n",
    "from torchvision import transforms, datasets\n",
    "import matplotlib.pyplot as plt"
   ]
  },
  {
   "cell_type": "code",
   "execution_count": 2,
   "metadata": {},
   "outputs": [],
   "source": [
    "SEED = 1\n",
    "\n",
    "# CUDA?\n",
    "cuda = torch.cuda.is_available()\n",
    "\n",
    "# For reproducibility\n",
    "torch.manual_seed(SEED)\n",
    "\n",
    "if cuda:\n",
    "    torch.cuda.manual_seed(SEED)"
   ]
  },
  {
   "cell_type": "code",
   "execution_count": 7,
   "metadata": {},
   "outputs": [
    {
     "name": "stdout",
     "output_type": "stream",
     "text": [
      "161\n",
      "41\n",
      "202\n"
     ]
    }
   ],
   "source": [
    "transf = transforms.Compose([transforms.Grayscale(),transforms.ToTensor()])\n",
    "dataset = datasets.ImageFolder('PPC2/.',transf)\n",
    "n = len(dataset)\n",
    "\n",
    "ntrain = int(0.8 *n)\n",
    "ntest = n - ntrain\n",
    "train_data, test_data = torch.utils.data.random_split(dataset, [ntrain, ntest])\n",
    "nbatch = 8\n",
    "print (ntrain)\n",
    "print (ntest)\n",
    "print (n)"
   ]
  },
  {
   "cell_type": "code",
   "execution_count": 8,
   "metadata": {},
   "outputs": [],
   "source": [
    "dataload_train = dict(shuffle=True, batch_size=nbatch,num_workers=4, pin_memory=True)\n",
    "train_load = dataloader.DataLoader(train_data, **dataload_train)\n",
    "\n",
    "dataload_test = dict(shuffle=True, batch_size=ntest,num_workers=4, pin_memory=True)\n",
    "test_load = dataloader.DataLoader(test_data, **dataload_test)\n",
    "\n",
    "dataiter = iter(test_load)\n",
    "images, labels = dataiter.next()"
   ]
  },
  {
   "cell_type": "code",
   "execution_count": 9,
   "metadata": {},
   "outputs": [],
   "source": [
    "# One hidden Layer NN\n",
    "class Model(nn.Module):\n",
    "    def __init__(self):\n",
    "        super(Model, self).__init__()\n",
    "        self.fc0 = nn.Linear(32 * 32, 64*64)\n",
    "        self.fc1 = nn.Linear(64 * 64, 16*16)\n",
    "        self.fcout = nn.Linear(16*16,3)\n",
    "    def forward(self, x):\n",
    "        out = self.fc0(x.view(-1,32*32))\n",
    "        out = F.sigmoid(out)\n",
    "        out = F.sigmoid(self.fc1(out))\n",
    "        out = F.relu(self.fcout(out))\n",
    "        return F.log_softmax(out, dim=0)    \n",
    "    \n",
    "    \n",
    "model = Model()\n",
    "if cuda:\n",
    "    model.cuda()\n",
    "optimizer = optim.Adam(model.parameters(), lr=1e-3)\n",
    "\n",
    "EPOCHS = 20\n",
    "losses = []\n"
   ]
  },
  {
   "cell_type": "code",
   "execution_count": 13,
   "metadata": {},
   "outputs": [
    {
     "name": "stderr",
     "output_type": "stream",
     "text": [
      "/home/boukraichi/.local/lib/python3.6/site-packages/torch/nn/functional.py:1006: UserWarning: nn.functional.sigmoid is deprecated. Use torch.sigmoid instead.\n",
      "  warnings.warn(\"nn.functional.sigmoid is deprecated. Use torch.sigmoid instead.\")\n"
     ]
    },
    {
     "name": "stdout",
     "output_type": "stream",
     "text": [
      " Train Epoch: 1/20 [161/161 (12%)]\tLoss: 1.098612\t Test Accuracy: 36.5854%\n",
      " Train Epoch: 2/20 [161/161 (12%)]\tLoss: 1.098612\t Test Accuracy: 36.5854%\n",
      " Train Epoch: 3/20 [161/161 (12%)]\tLoss: 1.098612\t Test Accuracy: 36.5854%\n",
      " Train Epoch: 4/20 [161/161 (12%)]\tLoss: 1.098612\t Test Accuracy: 36.5854%\n",
      " Train Epoch: 5/20 [161/161 (12%)]\tLoss: 1.098612\t Test Accuracy: 36.5854%\n",
      " Train Epoch: 6/20 [161/161 (12%)]\tLoss: 1.098612\t Test Accuracy: 36.5854%\n",
      " Train Epoch: 7/20 [161/161 (12%)]\tLoss: 1.098612\t Test Accuracy: 36.5854%\n",
      " Train Epoch: 8/20 [161/161 (12%)]\tLoss: 1.098612\t Test Accuracy: 36.5854%\n",
      " Train Epoch: 9/20 [161/161 (12%)]\tLoss: 1.098612\t Test Accuracy: 36.5854%\n",
      " Train Epoch: 10/20 [161/161 (12%)]\tLoss: 1.098612\t Test Accuracy: 36.5854%\n",
      " Train Epoch: 11/20 [161/161 (12%)]\tLoss: 1.098612\t Test Accuracy: 36.5854%\n",
      " Train Epoch: 12/20 [161/161 (12%)]\tLoss: 1.098612\t Test Accuracy: 36.5854%\n",
      " Train Epoch: 13/20 [161/161 (12%)]\tLoss: 1.098612\t Test Accuracy: 36.5854%\n",
      " Train Epoch: 14/20 [161/161 (12%)]\tLoss: 1.098612\t Test Accuracy: 36.5854%\n",
      " Train Epoch: 15/20 [161/161 (12%)]\tLoss: 1.098612\t Test Accuracy: 36.5854%\n",
      " Train Epoch: 16/20 [161/161 (12%)]\tLoss: 1.098612\t Test Accuracy: 36.5854%\n",
      " Train Epoch: 17/20 [161/161 (12%)]\tLoss: 1.098612\t Test Accuracy: 36.5854%\n",
      " Train Epoch: 18/20 [161/161 (12%)]\tLoss: 1.098612\t Test Accuracy: 36.5854%\n",
      " Train Epoch: 19/20 [161/161 (12%)]\tLoss: 1.098612\t Test Accuracy: 36.5854%\n",
      " Train Epoch: 20/20 [161/161 (12%)]\tLoss: 1.098612\t Test Accuracy: 36.5854%\n"
     ]
    }
   ],
   "source": [
    "model.train()\n",
    "for epoch in range(EPOCHS):\n",
    "    for batch_idx, (data, target) in enumerate(train_load):\n",
    "        # Get Samples\n",
    "        data, target = Variable(data), Variable(target)\n",
    "        \n",
    "        if cuda:\n",
    "            data, target = data.cuda(), target.cuda()\n",
    "\n",
    "        # Init\n",
    "        optimizer.zero_grad()\n",
    "        # Predict\n",
    "        y_pred = model(data) \n",
    "\n",
    "         \n",
    "        # Calculate loss\n",
    "        #print(y_pred)\n",
    "        #print(target)\n",
    "        loss = F.cross_entropy(y_pred, target)\n",
    "        losses.append(loss.cpu().item())\n",
    "        # Backpropagation\n",
    "        loss.backward()\n",
    "        optimizer.step()\n",
    "        \n",
    "        \n",
    "        # Display\n",
    "        if batch_idx % 100 == 1:\n",
    "            print('\\r Train Epoch: {}/{} [{}/{} ({:.0f}%)]\\tLoss: {:.6f}'.format(\n",
    "                epoch+1,\n",
    "                EPOCHS,\n",
    "                batch_idx * len(data), \n",
    "                ntrain,\n",
    "                100. * batch_idx / nbatch, \n",
    "                loss.cpu().item()), \n",
    "                end='')\n",
    "            \n",
    "    # display final evaluation for this epoch\n",
    "    model.eval()\n",
    "    output = model(images)\n",
    "    pred = output.data.max(1)[1]\n",
    "    d = pred.eq(labels.data).cpu()\n",
    "    accuracy = d.sum().item()/d.size()[0]\n",
    "    \n",
    "    print('\\r Train Epoch: {}/{} [{}/{} ({:.0f}%)]\\tLoss: {:.6f}\\t Test Accuracy: {:.4f}%'.format(\n",
    "        epoch+1,\n",
    "        EPOCHS,\n",
    "        ntrain, \n",
    "        ntrain,\n",
    "        100. * batch_idx / nbatch, \n",
    "        loss.cpu().item(),\n",
    "        accuracy*100,\n",
    "        end=''))"
   ]
  },
  {
   "cell_type": "code",
   "execution_count": null,
   "metadata": {},
   "outputs": [],
   "source": []
  }
 ],
 "metadata": {
  "kernelspec": {
   "display_name": "Python 3",
   "language": "python",
   "name": "python3"
  },
  "language_info": {
   "codemirror_mode": {
    "name": "ipython",
    "version": 3
   },
   "file_extension": ".py",
   "mimetype": "text/x-python",
   "name": "python",
   "nbconvert_exporter": "python",
   "pygments_lexer": "ipython3",
   "version": "3.6.7"
  }
 },
 "nbformat": 4,
 "nbformat_minor": 2
}
